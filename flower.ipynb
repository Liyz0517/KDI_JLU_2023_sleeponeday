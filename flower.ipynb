{
 "cells": [
  {
   "cell_type": "code",
   "execution_count": 1,
   "id": "03a321dd-17d2-49fa-99a0-432e79b6ec3c",
   "metadata": {},
   "outputs": [],
   "source": [
    "# pip install pandas"
   ]
  },
  {
   "cell_type": "code",
   "execution_count": 2,
   "id": "a16e1d27-8737-4291-b90d-b954374b3eb7",
   "metadata": {},
   "outputs": [],
   "source": [
    "import os\n",
    "import pandas as pd"
   ]
  },
  {
   "cell_type": "code",
   "execution_count": 3,
   "id": "3c9db07b-c6e7-474c-86b3-1d9946b1ebd6",
   "metadata": {},
   "outputs": [],
   "source": [
    "path = \"./data_down/科属/归属关系.txt\""
   ]
  },
  {
   "cell_type": "code",
   "execution_count": 4,
   "id": "7b8a5231-292f-4532-b3eb-0d4c56621c74",
   "metadata": {},
   "outputs": [],
   "source": [
    "data = pd.read_csv(path,encoding='utf8',header=None,sep='\\t',index_col=0,names=['flowername','alias','img_url','category','families','flowerphase','introduce'])"
   ]
  },
  {
   "cell_type": "markdown",
   "id": "b19b5a89-2811-4ea5-a1c6-e691f75128a9",
   "metadata": {},
   "source": [
    "## 查看是否有空值"
   ]
  },
  {
   "cell_type": "code",
   "execution_count": 5,
   "id": "4dfef5b1-a5d7-41fd-948c-8a437c2df4fa",
   "metadata": {},
   "outputs": [
    {
     "data": {
      "text/plain": [
       "[]"
      ]
     },
     "execution_count": 5,
     "metadata": {},
     "output_type": "execute_result"
    }
   ],
   "source": [
    "rows_with_nulls = data[data.isnull().any(axis=1)].index.tolist() \n",
    "rows_with_nulls"
   ]
  },
  {
   "cell_type": "code",
   "execution_count": 8,
   "id": "eb8db26a-6925-4321-b105-7a0cd02a027e",
   "metadata": {},
   "outputs": [
    {
     "data": {
      "text/html": [
       "<div>\n",
       "<style scoped>\n",
       "    .dataframe tbody tr th:only-of-type {\n",
       "        vertical-align: middle;\n",
       "    }\n",
       "\n",
       "    .dataframe tbody tr th {\n",
       "        vertical-align: top;\n",
       "    }\n",
       "\n",
       "    .dataframe thead th {\n",
       "        text-align: right;\n",
       "    }\n",
       "</style>\n",
       "<table border=\"1\" class=\"dataframe\">\n",
       "  <thead>\n",
       "    <tr style=\"text-align: right;\">\n",
       "      <th></th>\n",
       "      <th>flower_id</th>\n",
       "      <th>flowername</th>\n",
       "      <th>alias</th>\n",
       "      <th>img_url</th>\n",
       "      <th>category</th>\n",
       "      <th>families</th>\n",
       "      <th>flowerphase</th>\n",
       "      <th>introduce</th>\n",
       "    </tr>\n",
       "  </thead>\n",
       "  <tbody>\n",
       "    <tr>\n",
       "      <th>0</th>\n",
       "      <td>flower_0</td>\n",
       "      <td>大叶落地生根</td>\n",
       "      <td>宽叶不死鸟</td>\n",
       "      <td>http://pic1.huashichang.com/2018/0924/10/5ba84...</td>\n",
       "      <td>多肉多浆植物</td>\n",
       "      <td>植物界 被子植物门 双子叶植物纲 蔷薇目 景天科 伽蓝菜属</td>\n",
       "      <td>春季</td>\n",
       "      <td>大叶落地生根是常见的多浆植物，又名宽叶不死鸟，原产于非洲马达加斯加岛。其叶片肥厚多汁，边缘长...</td>\n",
       "    </tr>\n",
       "    <tr>\n",
       "      <th>1</th>\n",
       "      <td>flower_1</td>\n",
       "      <td>吹雪之松锦</td>\n",
       "      <td>无</td>\n",
       "      <td>http://pic1.huashichang.com/2016/1230/00/58653...</td>\n",
       "      <td>多肉多浆植物</td>\n",
       "      <td>植物界 被子植物门 双子叶植物纲 中央种子目 马齿苋科 回欢草属</td>\n",
       "      <td>春季</td>\n",
       "      <td>吹雪之松锦原产纳米比亚，是一种变异带有白色锦斑的多肉植物。马齿苋科、回欢草属多肉植物（多浆植...</td>\n",
       "    </tr>\n",
       "    <tr>\n",
       "      <th>2</th>\n",
       "      <td>flower_2</td>\n",
       "      <td>熊童子白锦</td>\n",
       "      <td>无</td>\n",
       "      <td>http://pic1.huashichang.com/2016/1226/23/58613...</td>\n",
       "      <td>多肉多浆植物</td>\n",
       "      <td>植物界 被子植物门 双子叶植物纲 蔷薇目 景天科 银波锦</td>\n",
       "      <td>夏季</td>\n",
       "      <td>熊童子白锦cotyledon ladismithiensis variegata景天科银波锦...</td>\n",
       "    </tr>\n",
       "    <tr>\n",
       "      <th>3</th>\n",
       "      <td>flower_3</td>\n",
       "      <td>美丽莲</td>\n",
       "      <td>别露丝、贝勒莲、贝拉</td>\n",
       "      <td>http://pic1.huashichang.com/2016/1225/23/585fe...</td>\n",
       "      <td>多肉多浆植物</td>\n",
       "      <td>植物界 被子植物门 双子叶植物纲 蔷薇目 景天科 风车草属</td>\n",
       "      <td>夏季</td>\n",
       "      <td>美丽莲（学名Graptopetalum bellum）为景天科、风车草属多年生肉质植物，叶片...</td>\n",
       "    </tr>\n",
       "    <tr>\n",
       "      <th>4</th>\n",
       "      <td>flower_4</td>\n",
       "      <td>碧玉莲</td>\n",
       "      <td>碧渔莲、碧酤呗</td>\n",
       "      <td>http://pic1.huashichang.com/2018/0925/12/5ba9b...</td>\n",
       "      <td>多肉多浆植物</td>\n",
       "      <td>植物界 被子植物门 双子叶植物纲 石竹目 番杏科 刺番杏属</td>\n",
       "      <td>冬季</td>\n",
       "      <td>碧玉莲，番杏科多肉植物，有花友容易把碧玉莲同鹿角海棠混淆，其实两者是不同种。碧玉莲叶片很小，...</td>\n",
       "    </tr>\n",
       "    <tr>\n",
       "      <th>...</th>\n",
       "      <td>...</td>\n",
       "      <td>...</td>\n",
       "      <td>...</td>\n",
       "      <td>...</td>\n",
       "      <td>...</td>\n",
       "      <td>...</td>\n",
       "      <td>...</td>\n",
       "      <td>...</td>\n",
       "    </tr>\n",
       "    <tr>\n",
       "      <th>2407</th>\n",
       "      <td>flower_2407</td>\n",
       "      <td>地枇杷</td>\n",
       "      <td>地果、野地瓜、地瓜藤、地石榴、地胆紫、地瓜榕、地瓜子</td>\n",
       "      <td>http://pic1.huashichang.com/2018/1118/20/5bf15...</td>\n",
       "      <td>木本花卉</td>\n",
       "      <td>植物界 被子植物门 双子叶植物纲  桑科 榕属</td>\n",
       "      <td>四季</td>\n",
       "      <td>地枇杷又名地果、野地瓜，地瓜藤、地石榴、地胆紫、地瓜榕，地瓜子等。常绿木质藤本，葡地成片生长...</td>\n",
       "    </tr>\n",
       "    <tr>\n",
       "      <th>2408</th>\n",
       "      <td>flower_2408</td>\n",
       "      <td>紫菜</td>\n",
       "      <td>无</td>\n",
       "      <td>http://pic1.huashichang.com/2018/1016/21/5bc5e...</td>\n",
       "      <td>藻类植物</td>\n",
       "      <td>植物界 红藻门 Rhodophyta 红藻纲 Rhodophyceae 紫球藻目 紫球藻科 紫菜属</td>\n",
       "      <td>四季</td>\n",
       "      <td>紫菜（Porphyra），是在海中互生藻类的统称。红藻纲，红毛菜科。藻体呈膜状，称为叶状体。...</td>\n",
       "    </tr>\n",
       "    <tr>\n",
       "      <th>2409</th>\n",
       "      <td>flower_2409</td>\n",
       "      <td>海带</td>\n",
       "      <td>江白菜、昆布</td>\n",
       "      <td>http://pic1.huashichang.com/2018/1016/20/5bc5d...</td>\n",
       "      <td>藻类植物</td>\n",
       "      <td>植物界 不等长鞭毛门 褐藻纲 海带目 海带科 海带属</td>\n",
       "      <td>四季</td>\n",
       "      <td>海带，是一种在低温海水中生长的大型海生褐藻，是一种可食用海藻，可以适用于拌、烧、炖、焖等烹饪...</td>\n",
       "    </tr>\n",
       "    <tr>\n",
       "      <th>2410</th>\n",
       "      <td>flower_2410</td>\n",
       "      <td>红巧梅</td>\n",
       "      <td>妃子红</td>\n",
       "      <td>http://pic1.huashichang.com/2018/1118/12/5bf0f...</td>\n",
       "      <td>草本花卉</td>\n",
       "      <td>植物界 被子植物门 双子叶植物纲 中央种子目 苋科 千日红属</td>\n",
       "      <td>四季</td>\n",
       "      <td>红巧梅能抗阳光及电脑对皮肤的辐射。调整内分泌紊乱、解郁降火、补血、健脾胃、通经络、消炎、祛斑...</td>\n",
       "    </tr>\n",
       "    <tr>\n",
       "      <th>2411</th>\n",
       "      <td>flower_2411</td>\n",
       "      <td>毛海星</td>\n",
       "      <td>无</td>\n",
       "      <td>http://pic1.huashichang.com/2018/0924/10/5ba84...</td>\n",
       "      <td>多肉多浆植物</td>\n",
       "      <td>植物界 被子植物门 双子叶植物纲 蔷薇目 景天科 青锁龙属</td>\n",
       "      <td>四季</td>\n",
       "      <td>毛海星叶片交互环生。叶片有很多毛刺，容易群生，花季在晚冬到早春，花开白色，五瓣，花朵在枝条顶...</td>\n",
       "    </tr>\n",
       "  </tbody>\n",
       "</table>\n",
       "<p>2412 rows × 8 columns</p>\n",
       "</div>"
      ],
      "text/plain": [
       "        flower_id flowername                       alias  \\\n",
       "0        flower_0     大叶落地生根                       宽叶不死鸟   \n",
       "1        flower_1      吹雪之松锦                           无   \n",
       "2        flower_2      熊童子白锦                           无   \n",
       "3        flower_3        美丽莲                  别露丝、贝勒莲、贝拉   \n",
       "4        flower_4        碧玉莲                     碧渔莲、碧酤呗   \n",
       "...           ...        ...                         ...   \n",
       "2407  flower_2407        地枇杷  地果、野地瓜、地瓜藤、地石榴、地胆紫、地瓜榕、地瓜子   \n",
       "2408  flower_2408         紫菜                           无   \n",
       "2409  flower_2409         海带                      江白菜、昆布   \n",
       "2410  flower_2410        红巧梅                         妃子红   \n",
       "2411  flower_2411        毛海星                           无   \n",
       "\n",
       "                                                img_url category  \\\n",
       "0     http://pic1.huashichang.com/2018/0924/10/5ba84...   多肉多浆植物   \n",
       "1     http://pic1.huashichang.com/2016/1230/00/58653...   多肉多浆植物   \n",
       "2     http://pic1.huashichang.com/2016/1226/23/58613...   多肉多浆植物   \n",
       "3     http://pic1.huashichang.com/2016/1225/23/585fe...   多肉多浆植物   \n",
       "4     http://pic1.huashichang.com/2018/0925/12/5ba9b...   多肉多浆植物   \n",
       "...                                                 ...      ...   \n",
       "2407  http://pic1.huashichang.com/2018/1118/20/5bf15...     木本花卉   \n",
       "2408  http://pic1.huashichang.com/2018/1016/21/5bc5e...     藻类植物   \n",
       "2409  http://pic1.huashichang.com/2018/1016/20/5bc5d...     藻类植物   \n",
       "2410  http://pic1.huashichang.com/2018/1118/12/5bf0f...     草本花卉   \n",
       "2411  http://pic1.huashichang.com/2018/0924/10/5ba84...   多肉多浆植物   \n",
       "\n",
       "                                               families flowerphase  \\\n",
       "0                         植物界 被子植物门 双子叶植物纲 蔷薇目 景天科 伽蓝菜属          春季   \n",
       "1                      植物界 被子植物门 双子叶植物纲 中央种子目 马齿苋科 回欢草属          春季   \n",
       "2                          植物界 被子植物门 双子叶植物纲 蔷薇目 景天科 银波锦          夏季   \n",
       "3                         植物界 被子植物门 双子叶植物纲 蔷薇目 景天科 风车草属          夏季   \n",
       "4                         植物界 被子植物门 双子叶植物纲 石竹目 番杏科 刺番杏属          冬季   \n",
       "...                                                 ...         ...   \n",
       "2407                            植物界 被子植物门 双子叶植物纲  桑科 榕属          四季   \n",
       "2408  植物界 红藻门 Rhodophyta 红藻纲 Rhodophyceae 紫球藻目 紫球藻科 紫菜属          四季   \n",
       "2409                         植物界 不等长鞭毛门 褐藻纲 海带目 海带科 海带属          四季   \n",
       "2410                     植物界 被子植物门 双子叶植物纲 中央种子目 苋科 千日红属          四季   \n",
       "2411                      植物界 被子植物门 双子叶植物纲 蔷薇目 景天科 青锁龙属          四季   \n",
       "\n",
       "                                              introduce  \n",
       "0     大叶落地生根是常见的多浆植物，又名宽叶不死鸟，原产于非洲马达加斯加岛。其叶片肥厚多汁，边缘长...  \n",
       "1     吹雪之松锦原产纳米比亚，是一种变异带有白色锦斑的多肉植物。马齿苋科、回欢草属多肉植物（多浆植...  \n",
       "2     熊童子白锦cotyledon ladismithiensis variegata景天科银波锦...  \n",
       "3     美丽莲（学名Graptopetalum bellum）为景天科、风车草属多年生肉质植物，叶片...  \n",
       "4     碧玉莲，番杏科多肉植物，有花友容易把碧玉莲同鹿角海棠混淆，其实两者是不同种。碧玉莲叶片很小，...  \n",
       "...                                                 ...  \n",
       "2407  地枇杷又名地果、野地瓜，地瓜藤、地石榴、地胆紫、地瓜榕，地瓜子等。常绿木质藤本，葡地成片生长...  \n",
       "2408  紫菜（Porphyra），是在海中互生藻类的统称。红藻纲，红毛菜科。藻体呈膜状，称为叶状体。...  \n",
       "2409  海带，是一种在低温海水中生长的大型海生褐藻，是一种可食用海藻，可以适用于拌、烧、炖、焖等烹饪...  \n",
       "2410  红巧梅能抗阳光及电脑对皮肤的辐射。调整内分泌紊乱、解郁降火、补血、健脾胃、通经络、消炎、祛斑...  \n",
       "2411  毛海星叶片交互环生。叶片有很多毛刺，容易群生，花季在晚冬到早春，花开白色，五瓣，花朵在枝条顶...  \n",
       "\n",
       "[2412 rows x 8 columns]"
      ]
     },
     "execution_count": 8,
     "metadata": {},
     "output_type": "execute_result"
    }
   ],
   "source": [
    "data_all = data.drop_duplicates(keep='first')\n",
    "data_all = data_all.reset_index(drop=True)\n",
    "data_all.insert(0, 'flower_id', 'flower_' + data_all.index.astype(str))  \n",
    "# data_all['flower_id'] = 'flower_' + data_all.index.astype(str)\n",
    "data_all.to_csv('flower_all.csv', sep='\\t', index=False)\n",
    "data_all = pd.read_csv(\"flower_all.csv\",sep='\\t')\n",
    "data_all"
   ]
  },
  {
   "cell_type": "code",
   "execution_count": 9,
   "id": "ddee2d14-e7c6-44a7-8e58-9cf53d6ef236",
   "metadata": {},
   "outputs": [],
   "source": [
    "flower_dictionary = data_all[data_all.columns[1]].to_dict()  \n",
    "flower_dictionary = {key: value for key, value in zip(flower_dictionary.values(), data_all[data_all.columns[0]].tolist())}"
   ]
  },
  {
   "cell_type": "code",
   "execution_count": 10,
   "id": "5a69eefd-2bd0-4a78-85dc-041b3b1602e4",
   "metadata": {},
   "outputs": [
    {
     "name": "stdout",
     "output_type": "stream",
     "text": [
      "2411\n"
     ]
    }
   ],
   "source": [
    "print(len(flower_dictionary))"
   ]
  },
  {
   "cell_type": "code",
   "execution_count": 11,
   "id": "f7a7e2b2-6c4a-4da4-bb5b-a02981aab6f5",
   "metadata": {},
   "outputs": [],
   "source": [
    "# files = os.listdir(flower_function_path)   \n",
    "# txt_files = [f.split(\".\")[0] for f in files if f.endswith('.txt')]  \n",
    "# txt_files"
   ]
  },
  {
   "cell_type": "code",
   "execution_count": 12,
   "id": "3ccf4ec3-48a1-44aa-9a8c-68225a43e257",
   "metadata": {},
   "outputs": [],
   "source": [
    "classification = ['花卉类别', '花卉功能', '应用环境', '盛花期_习性', '养护难度']\n",
    "Entity_path = []\n",
    "flower_Entity_txt_path = []\n",
    "for i in classification:\n",
    "    Entity_path.append(\"./data_down/\" + i + \"/\")\n",
    "for i in Entity_path:\n",
    "    files = os.listdir(i)   \n",
    "    [flower_Entity_txt_path.append(f.split(\".\")[0]) for f in files if f.endswith('.txt')]\n",
    "# flower_Entity_txt_path\n",
    "page_size = [0, 12, 20, 34, 42, 46] "
   ]
  },
  {
   "cell_type": "code",
   "execution_count": 13,
   "id": "d946ff72-c64a-4927-8a25-db1b88e68621",
   "metadata": {},
   "outputs": [],
   "source": [
    "for i in range(len(Entity_path)):\n",
    "    for j in range(page_size[i], page_size[i+1]):\n",
    "        path = Entity_path[i]+flower_Entity_txt_path[j]\n",
    "        data_new = pd.read_csv(path+\".txt\",encoding='utf8',header=None,sep='\\t',usecols=[0,1])\n",
    "        data_new = data_new.drop_duplicates(keep='first')\n",
    "        data_new = data_new.iloc[:,1:2]\n",
    "        data_new['flower_id'] = data_new[1].map(flower_dictionary)\n",
    "        rows_with_nulls = data_new[data_new.isnull().any(axis=1)].index.tolist() \n",
    "        data_new.columns = [\"flower_name\",\"flower_id\"]\n",
    "        if rows_with_nulls != []:\n",
    "            print(i+\" have NULL\")\n",
    "        data_new.to_csv(path+'.csv', sep='\\t', index=False)"
   ]
  },
  {
   "cell_type": "code",
   "execution_count": 14,
   "id": "194f99ef-cd2d-4b9e-868b-50e296cd746d",
   "metadata": {},
   "outputs": [
    {
     "data": {
      "text/plain": [
       "['Radiation_resistant',\n",
       " 'ornamental',\n",
       " 'purification',\n",
       " 'mosquito_repellent',\n",
       " 'bactericidal',\n",
       " 'refreshing',\n",
       " 'formaldehyde_absorption',\n",
       " 'medicinal']"
      ]
     },
     "execution_count": 14,
     "metadata": {},
     "output_type": "execute_result"
    }
   ],
   "source": [
    "flower_function_path = \"./data_down/花卉功能/\"\n",
    "flower_function_txt_path=[\"防辐射花卉\",\"观赏花卉\",\"净化空气花卉\",\"驱蚊花卉\",\"杀菌花卉\",\"提神花卉\",\"吸甲醛花卉\",\"药用花卉\"]\n",
    "function_list = [\"Radiation_resistant\", \"ornamental\", \"purification\" , \"mosquito_repellent\" , \"bactericidal\" , \"refreshing\" , \"formaldehyde_absorption\" , \"medicinal\"]\n",
    "function_list"
   ]
  },
  {
   "cell_type": "markdown",
   "id": "9732e229-c18b-4067-83a2-53cf1d37ecce",
   "metadata": {},
   "source": [
    "### deal with category and families"
   ]
  },
  {
   "cell_type": "code",
   "execution_count": 15,
   "id": "6a1e811d-08af-4b4e-b20e-468ca0317b44",
   "metadata": {},
   "outputs": [],
   "source": [
    "data_category = data_all.drop_duplicates(keep='first',subset=['category'])\n",
    "category = data_category['category'].tolist()\n",
    "with open('./data_down/种类.txt', 'w',encoding='utf-8') as f:  \n",
    "    for plant in category:  \n",
    "        f.write(plant + '\\n') "
   ]
  },
  {
   "cell_type": "code",
   "execution_count": 16,
   "id": "37aa238e-f6f1-4af1-98ec-463954149f3f",
   "metadata": {},
   "outputs": [],
   "source": [
    "Kingdom = []\n",
    "Phylum = []\n",
    "Class = []\n",
    "Order = []\n",
    "Family =[]\n",
    "Genus = []"
   ]
  },
  {
   "cell_type": "code",
   "execution_count": 17,
   "id": "1e1e6c65-10a5-4a0c-b3c9-9426fdc6a077",
   "metadata": {},
   "outputs": [],
   "source": [
    "def remove_english(item):  \n",
    "    return ''.join([char for char in item if u'\\u4e00' <= char <= u'\\u9fff'])\n",
    "def category_families(families):\n",
    "    families = families.split(\" \")\n",
    "    # families = [remove_english(item) for item in families]\n",
    "    # print(families)\n",
    "    for i in families:\n",
    "        if '界' in i and i not in Kingdom:\n",
    "            Kingdom.append(i)\n",
    "        elif '门' in i and i not in Phylum and i[-1]=='门':\n",
    "            Phylum.append(i)\n",
    "        elif '纲' in i and i not in Class:\n",
    "            Class.append(i)\n",
    "        elif '目' in i and i not in Order:\n",
    "            Order.append(i)\n",
    "        elif '科' in i and i not in Family:\n",
    "            Family.append(i)\n",
    "        elif '属' in i and i not in Genus:\n",
    "            Genus.append(i)\n",
    "    # print(\"_____sss___\"+families)\n",
    "data_families = data_all.drop_duplicates(keep='first',subset=['families'])\n",
    "data_families = data_families[['families']]\n",
    "data_families = data_families['families'].apply(category_families)\n",
    "# category = data_category['category'].tolist()\n"
   ]
  },
  {
   "cell_type": "code",
   "execution_count": 18,
   "id": "966fb492-8d1e-4e4f-8c4f-ed2394e1762a",
   "metadata": {},
   "outputs": [],
   "source": [
    "families_cate_list = ['界','门','纲','目','科','属']\n",
    "families_cate_total_list = [Kingdom,Phylum,Class,Order,Family,Genus]\n",
    "index = 0\n",
    "for i in families_cate_list:\n",
    "    path = './data_down/科属/' + i +'.txt'\n",
    "    with open(path, 'w',encoding='utf-8') as f:  \n",
    "        for plant in families_cate_total_list[index]:  \n",
    "            f.write(plant + '\\n') \n",
    "    index = index + 1"
   ]
  },
  {
   "cell_type": "code",
   "execution_count": 19,
   "id": "a2cbe04d-8903-4053-93f0-3e6a9adcf4f9",
   "metadata": {},
   "outputs": [],
   "source": [
    "# data_families = data_all.drop_duplicates(keep='first',subset=['families'])\n",
    "# data_families = data_families[['families']]\n",
    "# data_families.to_csv('zhiwu.csv', sep='\\t', index=False)"
   ]
  },
  {
   "cell_type": "code",
   "execution_count": 20,
   "id": "ec2a2695-34b1-48f5-b00d-d04bda73f4f0",
   "metadata": {},
   "outputs": [],
   "source": [
    "# data_all[['families']].to_csv('zhiwu.csv', sep='\\t', index=False)"
   ]
  },
  {
   "cell_type": "code",
   "execution_count": 21,
   "id": "77f9205d-7e63-40d8-968f-712edaaeac16",
   "metadata": {},
   "outputs": [
    {
     "data": {
      "text/plain": [
       "['植物界', '真菌界']"
      ]
     },
     "execution_count": 21,
     "metadata": {},
     "output_type": "execute_result"
    }
   ],
   "source": [
    "Kingdom"
   ]
  },
  {
   "cell_type": "code",
   "execution_count": 22,
   "id": "984ffb15-7991-4336-afdb-210ca8cfa51c",
   "metadata": {},
   "outputs": [],
   "source": [
    "# Genus"
   ]
  },
  {
   "cell_type": "code",
   "execution_count": null,
   "id": "d9077fa8-d975-4c40-b1bb-5b919ec02ac0",
   "metadata": {},
   "outputs": [],
   "source": []
  }
 ],
 "metadata": {
  "kernelspec": {
   "display_name": "kg",
   "language": "python",
   "name": "kg"
  },
  "language_info": {
   "codemirror_mode": {
    "name": "ipython",
    "version": 3
   },
   "file_extension": ".py",
   "mimetype": "text/x-python",
   "name": "python",
   "nbconvert_exporter": "python",
   "pygments_lexer": "ipython3",
   "version": "3.8.18"
  }
 },
 "nbformat": 4,
 "nbformat_minor": 5
}
